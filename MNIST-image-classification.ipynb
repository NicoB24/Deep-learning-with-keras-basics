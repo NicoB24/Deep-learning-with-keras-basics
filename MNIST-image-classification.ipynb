{
  "nbformat": 4,
  "nbformat_minor": 0,
  "metadata": {
    "colab": {
      "name": "Untitled1.ipynb",
      "provenance": [],
      "collapsed_sections": []
    },
    "kernelspec": {
      "name": "python3",
      "display_name": "Python 3"
    }
  },
  "cells": [
    {
      "cell_type": "markdown",
      "metadata": {
        "id": "PLWrCSE_XzYC"
      },
      "source": [
        "# MNIST images classification with MLP"
      ]
    },
    {
      "cell_type": "markdown",
      "metadata": {
        "id": "7A2nh-E9X6b7"
      },
      "source": [
        "In this notebook, i will create a simple MNIST images classificator using MLP from Keras library."
      ]
    },
    {
      "cell_type": "code",
      "metadata": {
        "id": "DxEwS2QwX5Ke"
      },
      "source": [
        "import numpy as np\n",
        "import tensorflow as tf\n",
        "import tensorflow.keras as keras\n",
        "from keras import Sequential\n",
        "from keras.layers import Dense, Flatten\n",
        "import matplotlib.pyplot as plt"
      ],
      "execution_count": 37,
      "outputs": []
    },
    {
      "cell_type": "code",
      "metadata": {
        "id": "6YEO9J9HYMer"
      },
      "source": [
        "\n",
        "\n",
        "\n"
      ],
      "execution_count": 24,
      "outputs": []
    },
    {
      "cell_type": "markdown",
      "metadata": {
        "id": "enpGjq6fYNEU"
      },
      "source": [
        "<h3>Data Loading</h3>"
      ]
    },
    {
      "cell_type": "code",
      "metadata": {
        "id": "vEbqaWZOYUiR"
      },
      "source": [
        "(x_train, y_train), (x_test, y_test)=keras.datasets.fashion_mnist.load_data()"
      ],
      "execution_count": 25,
      "outputs": []
    },
    {
      "cell_type": "code",
      "metadata": {
        "colab": {
          "base_uri": "https://localhost:8080/",
          "height": 282
        },
        "id": "bxJYywd9ZOoL",
        "outputId": "22198dcd-3783-4cb8-ca06-53527bf4a635"
      },
      "source": [
        "plt.imshow(x_train[1], cmap='gray', interpolation='none')"
      ],
      "execution_count": 26,
      "outputs": [
        {
          "output_type": "execute_result",
          "data": {
            "text/plain": [
              "<matplotlib.image.AxesImage at 0x7f0eb85f6a20>"
            ]
          },
          "metadata": {
            "tags": []
          },
          "execution_count": 26
        },
        {
          "output_type": "display_data",
          "data": {
            "image/png": "[encoded data removed]",
            "text/plain": [
              "<Figure size 432x288 with 1 Axes>"
            ]
          },
          "metadata": {
            "tags": [],
            "needs_background": "light"
          }
        }
      ]
    },
    {
      "cell_type": "markdown",
      "metadata": {
        "id": "HQK-ov4VZcR3"
      },
      "source": [
        "Image size"
      ]
    },
    {
      "cell_type": "code",
      "metadata": {
        "colab": {
          "base_uri": "https://localhost:8080/"
        },
        "id": "_eyOInpkZapj",
        "outputId": "43bd1b67-944b-4278-95bf-c28cbbd12dbf"
      },
      "source": [
        "x_train[100].shape"
      ],
      "execution_count": 27,
      "outputs": [
        {
          "output_type": "execute_result",
          "data": {
            "text/plain": [
              "(28, 28)"
            ]
          },
          "metadata": {
            "tags": []
          },
          "execution_count": 27
        }
      ]
    },
    {
      "cell_type": "code",
      "metadata": {
        "id": "l6aww1IaZfRg"
      },
      "source": [
        "\n",
        "\n",
        "\n"
      ],
      "execution_count": 27,
      "outputs": []
    },
    {
      "cell_type": "markdown",
      "metadata": {
        "id": "jEGu1UnzZg2h"
      },
      "source": [
        "<h3>Model Creation</h3>"
      ]
    },
    {
      "cell_type": "code",
      "metadata": {
        "id": "0GQC_WIVZlke"
      },
      "source": [
        "model = keras.Sequential([\n",
        "    Flatten(input_shape=(28, 28))\n",
        "    Dense(160, activation='relu'),\n",
        "    Dense(10, activation='softmax')\n",
        "])"
      ],
      "execution_count": 28,
      "outputs": []
    },
    {
      "cell_type": "code",
      "metadata": {
        "colab": {
          "base_uri": "https://localhost:8080/"
        },
        "id": "aRFs4n_oZ5mj",
        "outputId": "bf55e6a4-b8fd-462a-d82a-3ca9291d09fa"
      },
      "source": [
        "model.summary()"
      ],
      "execution_count": 29,
      "outputs": [
        {
          "output_type": "stream",
          "text": [
            "Model: \"sequential_2\"\n",
            "_________________________________________________________________\n",
            "Layer (type)                 Output Shape              Param #   \n",
            "=================================================================\n",
            "flatten_2 (Flatten)          (None, 784)               0         \n",
            "_________________________________________________________________\n",
            "dense_4 (Dense)              (None, 160)               125600    \n",
            "_________________________________________________________________\n",
            "dense_5 (Dense)              (None, 10)                1610      \n",
            "=================================================================\n",
            "Total params: 127,210\n",
            "Trainable params: 127,210\n",
            "Non-trainable params: 0\n",
            "_________________________________________________________________\n"
          ],
          "name": "stdout"
        }
      ]
    },
    {
      "cell_type": "code",
      "metadata": {
        "id": "shEiFcs-Z741"
      },
      "source": [
        "\n",
        "\n",
        "\n"
      ],
      "execution_count": 29,
      "outputs": []
    },
    {
      "cell_type": "markdown",
      "metadata": {
        "id": "cgJTlrznaL-Z"
      },
      "source": [
        "<h3>Model Compile</h3>"
      ]
    },
    {
      "cell_type": "markdown",
      "metadata": {
        "id": "vTA4vaqfZ_a9"
      },
      "source": [
        "Defining the optimizer (Adam with learning rate 0.0001)"
      ]
    },
    {
      "cell_type": "code",
      "metadata": {
        "id": "GWny58H3Z-ay"
      },
      "source": [
        "opt = keras.optimizers.Adam(learning_rate =  0.001)"
      ],
      "execution_count": 30,
      "outputs": []
    },
    {
      "cell_type": "code",
      "metadata": {
        "colab": {
          "base_uri": "https://localhost:8080/"
        },
        "id": "vbflvhqIaIRZ",
        "outputId": "5ce99c29-b02a-4766-8f91-4e90eaca2230"
      },
      "source": [
        "model.compile(optimizer=opt,\n",
        "              loss='sparse_categorical_crossentropy',\n",
        "              metrics=['accuracy'])\n",
        "\n",
        "history = model.fit(x_train, y_train, epochs=15, batch_size=64, validation_split=0.2)"
      ],
      "execution_count": 31,
      "outputs": [
        {
          "output_type": "stream",
          "text": [
            "Epoch 1/15\n",
            "750/750 [==============================] - 2s 3ms/step - loss: 17.2335 - accuracy: 0.6860 - val_loss: 1.0396 - val_accuracy: 0.7313\n",
            "Epoch 2/15\n",
            "750/750 [==============================] - 2s 3ms/step - loss: 0.8598 - accuracy: 0.7371 - val_loss: 0.7100 - val_accuracy: 0.7579\n",
            "Epoch 3/15\n",
            "750/750 [==============================] - 2s 3ms/step - loss: 0.6416 - accuracy: 0.7716 - val_loss: 0.6436 - val_accuracy: 0.7958\n",
            "Epoch 4/15\n",
            "750/750 [==============================] - 2s 3ms/step - loss: 0.5567 - accuracy: 0.8079 - val_loss: 0.5887 - val_accuracy: 0.8242\n",
            "Epoch 5/15\n",
            "750/750 [==============================] - 2s 3ms/step - loss: 0.5023 - accuracy: 0.8264 - val_loss: 0.5483 - val_accuracy: 0.8223\n",
            "Epoch 6/15\n",
            "750/750 [==============================] - 2s 3ms/step - loss: 0.4582 - accuracy: 0.8372 - val_loss: 0.5459 - val_accuracy: 0.8287\n",
            "Epoch 7/15\n",
            "750/750 [==============================] - 2s 3ms/step - loss: 0.4718 - accuracy: 0.8358 - val_loss: 0.5613 - val_accuracy: 0.8322\n",
            "Epoch 8/15\n",
            "750/750 [==============================] - 2s 2ms/step - loss: 0.4440 - accuracy: 0.8432 - val_loss: 0.5272 - val_accuracy: 0.8369\n",
            "Epoch 9/15\n",
            "750/750 [==============================] - 2s 2ms/step - loss: 0.4395 - accuracy: 0.8437 - val_loss: 0.4773 - val_accuracy: 0.8388\n",
            "Epoch 10/15\n",
            "750/750 [==============================] - 2s 3ms/step - loss: 0.4295 - accuracy: 0.8497 - val_loss: 0.4929 - val_accuracy: 0.8346\n",
            "Epoch 11/15\n",
            "750/750 [==============================] - 2s 3ms/step - loss: 0.4126 - accuracy: 0.8513 - val_loss: 0.4721 - val_accuracy: 0.8470\n",
            "Epoch 12/15\n",
            "750/750 [==============================] - 2s 3ms/step - loss: 0.4126 - accuracy: 0.8516 - val_loss: 0.4597 - val_accuracy: 0.8471\n",
            "Epoch 13/15\n",
            "750/750 [==============================] - 2s 3ms/step - loss: 0.4085 - accuracy: 0.8553 - val_loss: 0.5092 - val_accuracy: 0.8301\n",
            "Epoch 14/15\n",
            "750/750 [==============================] - 2s 3ms/step - loss: 0.3964 - accuracy: 0.8562 - val_loss: 0.4654 - val_accuracy: 0.8487\n",
            "Epoch 15/15\n",
            "750/750 [==============================] - 2s 3ms/step - loss: 0.4039 - accuracy: 0.8560 - val_loss: 0.4552 - val_accuracy: 0.8526\n"
          ],
          "name": "stdout"
        }
      ]
    },
    {
      "cell_type": "code",
      "metadata": {
        "id": "fzzn0yLNaRZO"
      },
      "source": [
        "\n",
        "\n",
        "\n"
      ],
      "execution_count": 31,
      "outputs": []
    },
    {
      "cell_type": "markdown",
      "metadata": {
        "id": "eH_uDDIMaUZw"
      },
      "source": [
        "<h3>Model Evaluation</h3>"
      ]
    },
    {
      "cell_type": "code",
      "metadata": {
        "colab": {
          "base_uri": "https://localhost:8080/"
        },
        "id": "C6R4mQnGaV_P",
        "outputId": "32515007-2c18-47d4-caeb-b1171087f05c"
      },
      "source": [
        "results = model.evaluate(x_test, y_test, batch_size=64)"
      ],
      "execution_count": 32,
      "outputs": [
        {
          "output_type": "stream",
          "text": [
            "157/157 [==============================] - 0s 1ms/step - loss: 0.4849 - accuracy: 0.8427\n"
          ],
          "name": "stdout"
        }
      ]
    },
    {
      "cell_type": "code",
      "metadata": {
        "colab": {
          "base_uri": "https://localhost:8080/",
          "height": 573
        },
        "id": "6XAIKYSAam3V",
        "outputId": "8d9caeb5-1424-47e0-eb01-1ecf25848d9a"
      },
      "source": [
        "plt.plot(history.history['accuracy'])\n",
        "plt.plot(history.history['val_accuracy'])\n",
        "plt.title('Model accuracy')\n",
        "plt.ylabel('Accuracy')\n",
        "plt.xlabel('Epoch')\n",
        "plt.legend(['Accuracy', 'Val_Accuracy'], loc='upper left')\n",
        "plt.show()\n",
        "\n",
        "plt.plot(history.history['loss'])\n",
        "plt.plot(history.history['val_loss'])\n",
        "plt.title('Model loss')\n",
        "plt.ylabel('Loss')\n",
        "plt.xlabel('Epoch')\n",
        "plt.legend(['Loss', 'Val_Loss'], loc='upper left')\n",
        "plt.show()"
      ],
      "execution_count": 33,
      "outputs": [
        {
          "output_type": "display_data",
          "data": {
            "image/png": "[encoded data removed]",
            "text/plain": [
              "<Figure size 432x288 with 1 Axes>"
            ]
          },
          "metadata": {
            "tags": [],
            "needs_background": "light"
          }
        },
        {
          "output_type": "display_data",
          "data": {
            "image/png": "[encoded data removed]",
            "text/plain": [
              "<Figure size 432x288 with 1 Axes>"
            ]
          },
          "metadata": {
            "tags": [],
            "needs_background": "light"
          }
        }
      ]
    },
    {
      "cell_type": "code",
      "metadata": {
        "id": "3g6aQf7lapAV"
      },
      "source": [
        ""
      ],
      "execution_count": 33,
      "outputs": []
    },
    {
      "cell_type": "markdown",
      "metadata": {
        "id": "3BiuFbVGbLH2"
      },
      "source": [
        "<h3>New cases prediction</h3>"
      ]
    },
    {
      "cell_type": "code",
      "metadata": {
        "colab": {
          "base_uri": "https://localhost:8080/"
        },
        "id": "RUYoHw9WbM-N",
        "outputId": "f21f7953-5008-45f1-dd27-8a63648b19d4"
      },
      "source": [
        "x_test[1:2].shape"
      ],
      "execution_count": 34,
      "outputs": [
        {
          "output_type": "execute_result",
          "data": {
            "text/plain": [
              "(1, 28, 28)"
            ]
          },
          "metadata": {
            "tags": []
          },
          "execution_count": 34
        }
      ]
    },
    {
      "cell_type": "code",
      "metadata": {
        "colab": {
          "base_uri": "https://localhost:8080/"
        },
        "id": "xi7FfGyMbOsV",
        "outputId": "ef9735ed-3941-4630-a98f-02e1f1c322fa"
      },
      "source": [
        "pred = model.predict(x_test[1:2])\n",
        "\n",
        "pred"
      ],
      "execution_count": 35,
      "outputs": [
        {
          "output_type": "execute_result",
          "data": {
            "text/plain": [
              "array([[2.8572453e-04, 3.3016910e-12, 9.9819535e-01, 2.4409022e-05,\n",
              "        5.8982638e-04, 3.3314464e-28, 9.0467691e-04, 0.0000000e+00,\n",
              "        3.4580706e-12, 0.0000000e+00]], dtype=float32)"
            ]
          },
          "metadata": {
            "tags": []
          },
          "execution_count": 35
        }
      ]
    },
    {
      "cell_type": "code",
      "metadata": {
        "colab": {
          "base_uri": "https://localhost:8080/"
        },
        "id": "NcDQSEpbbQp5",
        "outputId": "95352985-2d3f-4ea4-da6d-25feb024ddbb"
      },
      "source": [
        "pred.shape"
      ],
      "execution_count": 36,
      "outputs": [
        {
          "output_type": "execute_result",
          "data": {
            "text/plain": [
              "(1, 10)"
            ]
          },
          "metadata": {
            "tags": []
          },
          "execution_count": 36
        }
      ]
    },
    {
      "cell_type": "code",
      "metadata": {
        "colab": {
          "base_uri": "https://localhost:8080/"
        },
        "id": "YFCWwaSibfWN",
        "outputId": "2a01f217-c44a-43a7-b494-ebf507c2469e"
      },
      "source": [
        "np.argmax(pred, 1)"
      ],
      "execution_count": 40,
      "outputs": [
        {
          "output_type": "execute_result",
          "data": {
            "text/plain": [
              "array([2])"
            ]
          },
          "metadata": {
            "tags": []
          },
          "execution_count": 40
        }
      ]
    },
    {
      "cell_type": "code",
      "metadata": {
        "colab": {
          "base_uri": "https://localhost:8080/"
        },
        "id": "C4DUoTr4bSTU",
        "outputId": "a60120d9-7938-4586-d54b-3175cdc2dee5"
      },
      "source": [
        "y_test[1:2]"
      ],
      "execution_count": 38,
      "outputs": [
        {
          "output_type": "execute_result",
          "data": {
            "text/plain": [
              "array([2], dtype=uint8)"
            ]
          },
          "metadata": {
            "tags": []
          },
          "execution_count": 38
        }
      ]
    },
    {
      "cell_type": "code",
      "metadata": {
        "colab": {
          "base_uri": "https://localhost:8080/"
        },
        "id": "02c2C-kabTGG",
        "outputId": "86223b2f-0e43-4cd3-ec63-21a13ee73404"
      },
      "source": [
        "y_test.shape"
      ],
      "execution_count": 39,
      "outputs": [
        {
          "output_type": "execute_result",
          "data": {
            "text/plain": [
              "(10000,)"
            ]
          },
          "metadata": {
            "tags": []
          },
          "execution_count": 39
        }
      ]
    },
    {
      "cell_type": "code",
      "metadata": {
        "id": "QfEiMIwFbZZX"
      },
      "source": [
        ""
      ],
      "execution_count": null,
      "outputs": []
    },
    {
      "cell_type": "markdown",
      "metadata": {
        "id": "mr4YRoh1biVq"
      },
      "source": [
        "<h3>Insights</h3>"
      ]
    },
    {
      "cell_type": "markdown",
      "metadata": {
        "id": "YfzMrHH7buIm"
      },
      "source": [
        "Checking the model evaluation section, i see that there is a little overfitting in this model, so, this model requires some regularization (maybe changing the number of neurons in the layers) to improve the performance. In the other hand, the model can predict new cases."
      ]
    }
  ]
}